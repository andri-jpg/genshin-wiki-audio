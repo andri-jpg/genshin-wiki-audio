{
 "cells": [
  {
   "cell_type": "code",
   "execution_count": 1,
   "metadata": {},
   "outputs": [],
   "source": [
    "#use capital on first letter\n",
    "char='Yanfei'\n",
    "language='Japanese'"
   ]
  },
  {
   "cell_type": "code",
   "execution_count": 2,
   "metadata": {},
   "outputs": [
    {
     "name": "stdout",
     "output_type": "stream",
     "text": [
      "112\n",
      "d:\\genshin-wiki-audio-scrapper\\Yanfei\n"
     ]
    }
   ],
   "source": [
    "import pandas as pd\n",
    "import csv\n",
    "import wget\n",
    "from selenium import webdriver\n",
    "from selenium.webdriver.common.by import By\n",
    "\n",
    "driver = webdriver.Chrome()\n",
    "page = \"https://genshin-impact.fandom.com/wiki/{}/Voice-Overs/{}\".format(char, language)\n",
    "driver.get(page)\n",
    "lnks=driver.find_elements(By.TAG_NAME, 'audio')\n",
    "print(len(lnks))\n",
    "data = []\n",
    "for lnk in lnks:\n",
    "    link = lnk.get_attribute('src')\n",
    "    data.append(link)\n",
    "\n",
    "driver.close()\n",
    "\n",
    "!mkdir {char}\n",
    "%cd {char}\n",
    "\n",
    "for links in data:\n",
    "    wget.download(links)"
   ]
  }
 ],
 "metadata": {
  "kernelspec": {
   "display_name": "Python 3",
   "language": "python",
   "name": "python3"
  },
  "language_info": {
   "codemirror_mode": {
    "name": "ipython",
    "version": 3
   },
   "file_extension": ".py",
   "mimetype": "text/x-python",
   "name": "python",
   "nbconvert_exporter": "python",
   "pygments_lexer": "ipython3",
   "version": "3.10.9"
  },
  "orig_nbformat": 4
 },
 "nbformat": 4,
 "nbformat_minor": 2
}
